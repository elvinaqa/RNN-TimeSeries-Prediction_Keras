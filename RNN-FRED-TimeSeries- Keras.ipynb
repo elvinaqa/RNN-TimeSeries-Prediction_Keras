{
 "cells": [
  {
   "cell_type": "code",
   "execution_count": 1,
   "metadata": {},
   "outputs": [],
   "source": [
    "import numpy as np\n",
    "import pandas as pd\n",
    "import matplotlib.pyplot as plt"
   ]
  },
  {
   "cell_type": "code",
   "execution_count": 7,
   "metadata": {},
   "outputs": [],
   "source": [
    "df = pd.read_csv('RSCCASN.csv', parse_dates=True, index_col='DATE')"
   ]
  },
  {
   "cell_type": "code",
   "execution_count": 8,
   "metadata": {},
   "outputs": [
    {
     "data": {
      "text/html": [
       "<div>\n",
       "<style scoped>\n",
       "    .dataframe tbody tr th:only-of-type {\n",
       "        vertical-align: middle;\n",
       "    }\n",
       "\n",
       "    .dataframe tbody tr th {\n",
       "        vertical-align: top;\n",
       "    }\n",
       "\n",
       "    .dataframe thead th {\n",
       "        text-align: right;\n",
       "    }\n",
       "</style>\n",
       "<table border=\"1\" class=\"dataframe\">\n",
       "  <thead>\n",
       "    <tr style=\"text-align: right;\">\n",
       "      <th></th>\n",
       "      <th>RSCCASN</th>\n",
       "    </tr>\n",
       "    <tr>\n",
       "      <th>DATE</th>\n",
       "      <th></th>\n",
       "    </tr>\n",
       "  </thead>\n",
       "  <tbody>\n",
       "    <tr>\n",
       "      <th>1992-01-01</th>\n",
       "      <td>6938</td>\n",
       "    </tr>\n",
       "    <tr>\n",
       "      <th>1992-02-01</th>\n",
       "      <td>7524</td>\n",
       "    </tr>\n",
       "    <tr>\n",
       "      <th>1992-03-01</th>\n",
       "      <td>8475</td>\n",
       "    </tr>\n",
       "    <tr>\n",
       "      <th>1992-04-01</th>\n",
       "      <td>9401</td>\n",
       "    </tr>\n",
       "    <tr>\n",
       "      <th>1992-05-01</th>\n",
       "      <td>9558</td>\n",
       "    </tr>\n",
       "  </tbody>\n",
       "</table>\n",
       "</div>"
      ],
      "text/plain": [
       "            RSCCASN\n",
       "DATE               \n",
       "1992-01-01     6938\n",
       "1992-02-01     7524\n",
       "1992-03-01     8475\n",
       "1992-04-01     9401\n",
       "1992-05-01     9558"
      ]
     },
     "execution_count": 8,
     "metadata": {},
     "output_type": "execute_result"
    }
   ],
   "source": [
    "df.head()"
   ]
  },
  {
   "cell_type": "code",
   "execution_count": 9,
   "metadata": {},
   "outputs": [
    {
     "name": "stdout",
     "output_type": "stream",
     "text": [
      "<class 'pandas.core.frame.DataFrame'>\n",
      "DatetimeIndex: 334 entries, 1992-01-01 to 2019-10-01\n",
      "Data columns (total 1 columns):\n",
      " #   Column   Non-Null Count  Dtype\n",
      "---  ------   --------------  -----\n",
      " 0   RSCCASN  334 non-null    int64\n",
      "dtypes: int64(1)\n",
      "memory usage: 5.2 KB\n"
     ]
    }
   ],
   "source": [
    "df.info()"
   ]
  },
  {
   "cell_type": "code",
   "execution_count": 10,
   "metadata": {},
   "outputs": [
    {
     "data": {
      "text/html": [
       "<div>\n",
       "<style scoped>\n",
       "    .dataframe tbody tr th:only-of-type {\n",
       "        vertical-align: middle;\n",
       "    }\n",
       "\n",
       "    .dataframe tbody tr th {\n",
       "        vertical-align: top;\n",
       "    }\n",
       "\n",
       "    .dataframe thead th {\n",
       "        text-align: right;\n",
       "    }\n",
       "</style>\n",
       "<table border=\"1\" class=\"dataframe\">\n",
       "  <thead>\n",
       "    <tr style=\"text-align: right;\">\n",
       "      <th></th>\n",
       "      <th>RSCCASN</th>\n",
       "    </tr>\n",
       "  </thead>\n",
       "  <tbody>\n",
       "    <tr>\n",
       "      <th>count</th>\n",
       "      <td>334.000000</td>\n",
       "    </tr>\n",
       "    <tr>\n",
       "      <th>mean</th>\n",
       "      <td>16325.095808</td>\n",
       "    </tr>\n",
       "    <tr>\n",
       "      <th>std</th>\n",
       "      <td>5369.839014</td>\n",
       "    </tr>\n",
       "    <tr>\n",
       "      <th>min</th>\n",
       "      <td>6938.000000</td>\n",
       "    </tr>\n",
       "    <tr>\n",
       "      <th>25%</th>\n",
       "      <td>12298.500000</td>\n",
       "    </tr>\n",
       "    <tr>\n",
       "      <th>50%</th>\n",
       "      <td>15878.500000</td>\n",
       "    </tr>\n",
       "    <tr>\n",
       "      <th>75%</th>\n",
       "      <td>19772.500000</td>\n",
       "    </tr>\n",
       "    <tr>\n",
       "      <th>max</th>\n",
       "      <td>34706.000000</td>\n",
       "    </tr>\n",
       "  </tbody>\n",
       "</table>\n",
       "</div>"
      ],
      "text/plain": [
       "            RSCCASN\n",
       "count    334.000000\n",
       "mean   16325.095808\n",
       "std     5369.839014\n",
       "min     6938.000000\n",
       "25%    12298.500000\n",
       "50%    15878.500000\n",
       "75%    19772.500000\n",
       "max    34706.000000"
      ]
     },
     "execution_count": 10,
     "metadata": {},
     "output_type": "execute_result"
    }
   ],
   "source": [
    "df.describe()"
   ]
  },
  {
   "cell_type": "code",
   "execution_count": 11,
   "metadata": {},
   "outputs": [],
   "source": [
    "df.columns = ['Sales']"
   ]
  },
  {
   "cell_type": "code",
   "execution_count": 16,
   "metadata": {},
   "outputs": [
    {
     "data": {
      "text/plain": [
       "[<matplotlib.lines.Line2D at 0x2cd9df14188>]"
      ]
     },
     "execution_count": 16,
     "metadata": {},
     "output_type": "execute_result"
    },
    {
     "data": {
      "image/png": "[encoded data removed]",
      "text/plain": [
       "<Figure size 864x576 with 1 Axes>"
      ]
     },
     "metadata": {
      "needs_background": "light"
     },
     "output_type": "display_data"
    }
   ],
   "source": [
    "plt.figure(figsize=(12, 8))\n",
    "plt.plot(df)"
   ]
  },
  {
   "cell_type": "code",
   "execution_count": 17,
   "metadata": {},
   "outputs": [
    {
     "data": {
      "text/plain": [
       "334"
      ]
     },
     "execution_count": 17,
     "metadata": {},
     "output_type": "execute_result"
    }
   ],
   "source": [
    "len(df)"
   ]
  },
  {
   "cell_type": "code",
   "execution_count": 18,
   "metadata": {},
   "outputs": [],
   "source": [
    "test_size = 18"
   ]
  },
  {
   "cell_type": "code",
   "execution_count": 20,
   "metadata": {},
   "outputs": [],
   "source": [
    "test_ind = len(df) - test_size"
   ]
  },
  {
   "cell_type": "code",
   "execution_count": 21,
   "metadata": {},
   "outputs": [
    {
     "data": {
      "text/plain": [
       "316"
      ]
     },
     "execution_count": 21,
     "metadata": {},
     "output_type": "execute_result"
    }
   ],
   "source": [
    "test_ind"
   ]
  },
  {
   "cell_type": "code",
   "execution_count": 25,
   "metadata": {},
   "outputs": [],
   "source": [
    "train = df.iloc[:test_ind] # 0 to 316\n",
    "test = df.iloc[test_ind:] # 316 to 334"
   ]
  },
  {
   "cell_type": "code",
   "execution_count": 26,
   "metadata": {},
   "outputs": [
    {
     "data": {
      "text/plain": [
       "316"
      ]
     },
     "execution_count": 26,
     "metadata": {},
     "output_type": "execute_result"
    }
   ],
   "source": [
    "len(train)"
   ]
  },
  {
   "cell_type": "code",
   "execution_count": 27,
   "metadata": {},
   "outputs": [
    {
     "data": {
      "text/html": [
       "<div>\n",
       "<style scoped>\n",
       "    .dataframe tbody tr th:only-of-type {\n",
       "        vertical-align: middle;\n",
       "    }\n",
       "\n",
       "    .dataframe tbody tr th {\n",
       "        vertical-align: top;\n",
       "    }\n",
       "\n",
       "    .dataframe thead th {\n",
       "        text-align: right;\n",
       "    }\n",
       "</style>\n",
       "<table border=\"1\" class=\"dataframe\">\n",
       "  <thead>\n",
       "    <tr style=\"text-align: right;\">\n",
       "      <th></th>\n",
       "      <th>Sales</th>\n",
       "    </tr>\n",
       "    <tr>\n",
       "      <th>DATE</th>\n",
       "      <th></th>\n",
       "    </tr>\n",
       "  </thead>\n",
       "  <tbody>\n",
       "    <tr>\n",
       "      <th>1992-01-01</th>\n",
       "      <td>6938</td>\n",
       "    </tr>\n",
       "    <tr>\n",
       "      <th>1992-02-01</th>\n",
       "      <td>7524</td>\n",
       "    </tr>\n",
       "    <tr>\n",
       "      <th>1992-03-01</th>\n",
       "      <td>8475</td>\n",
       "    </tr>\n",
       "    <tr>\n",
       "      <th>1992-04-01</th>\n",
       "      <td>9401</td>\n",
       "    </tr>\n",
       "    <tr>\n",
       "      <th>1992-05-01</th>\n",
       "      <td>9558</td>\n",
       "    </tr>\n",
       "    <tr>\n",
       "      <th>...</th>\n",
       "      <td>...</td>\n",
       "    </tr>\n",
       "    <tr>\n",
       "      <th>2017-12-01</th>\n",
       "      <td>33720</td>\n",
       "    </tr>\n",
       "    <tr>\n",
       "      <th>2018-01-01</th>\n",
       "      <td>15881</td>\n",
       "    </tr>\n",
       "    <tr>\n",
       "      <th>2018-02-01</th>\n",
       "      <td>18585</td>\n",
       "    </tr>\n",
       "    <tr>\n",
       "      <th>2018-03-01</th>\n",
       "      <td>22404</td>\n",
       "    </tr>\n",
       "    <tr>\n",
       "      <th>2018-04-01</th>\n",
       "      <td>20616</td>\n",
       "    </tr>\n",
       "  </tbody>\n",
       "</table>\n",
       "<p>316 rows × 1 columns</p>\n",
       "</div>"
      ],
      "text/plain": [
       "            Sales\n",
       "DATE             \n",
       "1992-01-01   6938\n",
       "1992-02-01   7524\n",
       "1992-03-01   8475\n",
       "1992-04-01   9401\n",
       "1992-05-01   9558\n",
       "...           ...\n",
       "2017-12-01  33720\n",
       "2018-01-01  15881\n",
       "2018-02-01  18585\n",
       "2018-03-01  22404\n",
       "2018-04-01  20616\n",
       "\n",
       "[316 rows x 1 columns]"
      ]
     },
     "execution_count": 27,
     "metadata": {},
     "output_type": "execute_result"
    }
   ],
   "source": [
    "train"
   ]
  },
  {
   "cell_type": "code",
   "execution_count": 29,
   "metadata": {},
   "outputs": [
    {
     "data": {
      "text/plain": [
       "MinMaxScaler(copy=True, feature_range=(0, 1))"
      ]
     },
     "execution_count": 29,
     "metadata": {},
     "output_type": "execute_result"
    }
   ],
   "source": [
    "from sklearn.preprocessing import MinMaxScaler\n",
    "scaler = MinMaxScaler()\n",
    "scaler.fit(train)"
   ]
  },
  {
   "cell_type": "code",
   "execution_count": 30,
   "metadata": {},
   "outputs": [],
   "source": [
    "scaled_train = scaler.transform(train)\n",
    "scaled_test = scaler.transform(test)"
   ]
  },
  {
   "cell_type": "code",
   "execution_count": 33,
   "metadata": {},
   "outputs": [],
   "source": [
    "from tensorflow.keras.preprocessing.sequence import TimeseriesGenerator"
   ]
  },
  {
   "cell_type": "code",
   "execution_count": 34,
   "metadata": {},
   "outputs": [
    {
     "data": {
      "text/plain": [
       "18"
      ]
     },
     "execution_count": 34,
     "metadata": {},
     "output_type": "execute_result"
    }
   ],
   "source": [
    "len(test)"
   ]
  },
  {
   "cell_type": "code",
   "execution_count": 35,
   "metadata": {},
   "outputs": [],
   "source": [
    "length = 12 # a whole year\n",
    "generator = TimeseriesGenerator(scaled_train, scaled_train, length=length, batch_size=1)"
   ]
  },
  {
   "cell_type": "code",
   "execution_count": 86,
   "metadata": {},
   "outputs": [],
   "source": [
    "X, y = generator[303]"
   ]
  },
  {
   "cell_type": "code",
   "execution_count": 87,
   "metadata": {},
   "outputs": [
    {
     "data": {
      "text/plain": [
       "array([[[0.50515539],\n",
       "        [0.53252977],\n",
       "        [0.48591345],\n",
       "        [0.49364653],\n",
       "        [0.56629393],\n",
       "        [0.46405751],\n",
       "        [0.48536886],\n",
       "        [0.63534708],\n",
       "        [0.97233517],\n",
       "        [0.32468051],\n",
       "        [0.42285071],\n",
       "        [0.5615016 ]]])"
      ]
     },
     "execution_count": 87,
     "metadata": {},
     "output_type": "execute_result"
    }
   ],
   "source": [
    "X # one year - 12 months X is given and we need to predict 13th month data which is y"
   ]
  },
  {
   "cell_type": "code",
   "execution_count": 88,
   "metadata": {},
   "outputs": [
    {
     "data": {
      "text/plain": [
       "array([[0.49658728]])"
      ]
     },
     "execution_count": 88,
     "metadata": {},
     "output_type": "execute_result"
    }
   ],
   "source": [
    "y # y denotes predicted 13th month value based on prior 12 months (X)"
   ]
  },
  {
   "cell_type": "code",
   "execution_count": 90,
   "metadata": {},
   "outputs": [
    {
     "data": {
      "text/plain": [
       "array([[0.        ],\n",
       "       [0.02127505],\n",
       "       [0.05580163],\n",
       "       [0.08942056],\n",
       "       [0.09512053],\n",
       "       [0.08146965],\n",
       "       [0.07860151],\n",
       "       [0.12979233],\n",
       "       [0.09566512],\n",
       "       [0.1203892 ],\n",
       "       [0.15426227],\n",
       "       [0.41595266],\n",
       "       [0.02047633],\n",
       "       [0.02127505],\n",
       "       [0.06636654],\n",
       "       [0.10633895],\n",
       "       [0.11345484],\n",
       "       [0.09791606],\n",
       "       [0.10368864],\n",
       "       [0.13396747],\n",
       "       [0.11163956],\n",
       "       [0.12372931],\n",
       "       [0.17506535],\n",
       "       [0.43250799],\n",
       "       [0.0124165 ],\n",
       "       [0.03499855],\n",
       "       [0.10829945],\n",
       "       [0.10641156],\n",
       "       [0.11149434],\n",
       "       [0.10728289],\n",
       "       [0.10154662],\n",
       "       [0.1531731 ],\n",
       "       [0.11904589],\n",
       "       [0.13767064],\n",
       "       [0.19663085],\n",
       "       [0.47480395],\n",
       "       [0.02105722],\n",
       "       [0.03714058],\n",
       "       [0.10445106],\n",
       "       [0.11726692],\n",
       "       [0.13367703],\n",
       "       [0.12209556],\n",
       "       [0.10332559],\n",
       "       [0.1570578 ],\n",
       "       [0.13694453],\n",
       "       [0.12710572],\n",
       "       [0.21104415],\n",
       "       [0.47429567],\n",
       "       [0.02708394],\n",
       "       [0.07453529],\n",
       "       [0.12383822],\n",
       "       [0.13186175],\n",
       "       [0.16217688],\n",
       "       [0.13128086],\n",
       "       [0.11850131],\n",
       "       [0.18864362],\n",
       "       [0.13378594],\n",
       "       [0.15654952],\n",
       "       [0.21554604],\n",
       "       [0.47218995],\n",
       "       [0.04559977],\n",
       "       [0.06887162],\n",
       "       [0.14166425],\n",
       "       [0.11592361],\n",
       "       [0.16580744],\n",
       "       [0.13491141],\n",
       "       [0.13781586],\n",
       "       [0.20051554],\n",
       "       [0.14536741],\n",
       "       [0.17052716],\n",
       "       [0.22894278],\n",
       "       [0.51481266],\n",
       "       [0.06760093],\n",
       "       [0.09297851],\n",
       "       [0.14249927],\n",
       "       [0.17742521],\n",
       "       [0.19245571],\n",
       "       [0.16384694],\n",
       "       [0.17045455],\n",
       "       [0.21903137],\n",
       "       [0.15524252],\n",
       "       [0.19772001],\n",
       "       [0.25108917],\n",
       "       [0.56200988],\n",
       "       [0.08346645],\n",
       "       [0.11737584],\n",
       "       [0.18671943],\n",
       "       [0.19779262],\n",
       "       [0.22614726],\n",
       "       [0.19394423],\n",
       "       [0.20051554],\n",
       "       [0.2467325 ],\n",
       "       [0.19673976],\n",
       "       [0.21819634],\n",
       "       [0.27973424],\n",
       "       [0.62982864],\n",
       "       [0.09109062],\n",
       "       [0.15364508],\n",
       "       [0.21431165],\n",
       "       [0.22458612],\n",
       "       [0.24676881],\n",
       "       [0.21837787],\n",
       "       [0.20193146],\n",
       "       [0.27853616],\n",
       "       [0.23369881],\n",
       "       [0.23348098],\n",
       "       [0.31720157],\n",
       "       [0.65121261],\n",
       "       [0.11334592],\n",
       "       [0.16381063],\n",
       "       [0.2225167 ],\n",
       "       [0.23322684],\n",
       "       [0.24865669],\n",
       "       [0.21772437],\n",
       "       [0.20556201],\n",
       "       [0.28608771],\n",
       "       [0.18755446],\n",
       "       [0.22799884],\n",
       "       [0.30547488],\n",
       "       [0.63883241],\n",
       "       [0.12365669],\n",
       "       [0.17397618],\n",
       "       [0.25555475],\n",
       "       [0.22716381],\n",
       "       [0.26183561],\n",
       "       [0.22770839],\n",
       "       [0.21547342],\n",
       "       [0.29679785],\n",
       "       [0.19993465],\n",
       "       [0.25660761],\n",
       "       [0.32576968],\n",
       "       [0.66845774],\n",
       "       [0.14035725],\n",
       "       [0.17150741],\n",
       "       [0.23649434],\n",
       "       [0.24517136],\n",
       "       [0.28289283],\n",
       "       [0.23809178],\n",
       "       [0.25108917],\n",
       "       [0.31164682],\n",
       "       [0.24066947],\n",
       "       [0.27820941],\n",
       "       [0.34915045],\n",
       "       [0.71964856],\n",
       "       [0.17615452],\n",
       "       [0.23257334],\n",
       "       [0.28398199],\n",
       "       [0.29480105],\n",
       "       [0.30645513],\n",
       "       [0.26499419],\n",
       "       [0.28060558],\n",
       "       [0.31404299],\n",
       "       [0.26452222],\n",
       "       [0.31338949],\n",
       "       [0.37365669],\n",
       "       [0.77940749],\n",
       "       [0.18544874],\n",
       "       [0.2519605 ],\n",
       "       [0.31908946],\n",
       "       [0.31839965],\n",
       "       [0.32860151],\n",
       "       [0.31299012],\n",
       "       [0.30060993],\n",
       "       [0.35430584],\n",
       "       [0.2912431 ],\n",
       "       [0.3474804 ],\n",
       "       [0.4162068 ],\n",
       "       [0.84729887],\n",
       "       [0.21619954],\n",
       "       [0.27359861],\n",
       "       [0.34301481],\n",
       "       [0.35978798],\n",
       "       [0.36904589],\n",
       "       [0.34733517],\n",
       "       [0.3389849 ],\n",
       "       [0.39551263],\n",
       "       [0.35684723],\n",
       "       [0.37449172],\n",
       "       [0.45211298],\n",
       "       [0.89035725],\n",
       "       [0.25373947],\n",
       "       [0.29549085],\n",
       "       [0.40324572],\n",
       "       [0.36879175],\n",
       "       [0.4188208 ],\n",
       "       [0.37579872],\n",
       "       [0.36105867],\n",
       "       [0.43247168],\n",
       "       [0.35677462],\n",
       "       [0.38759802],\n",
       "       [0.49419111],\n",
       "       [0.86033256],\n",
       "       [0.26267064],\n",
       "       [0.32449898],\n",
       "       [0.39326169],\n",
       "       [0.36904589],\n",
       "       [0.44096718],\n",
       "       [0.36556056],\n",
       "       [0.37870317],\n",
       "       [0.43940604],\n",
       "       [0.32471682],\n",
       "       [0.35790009],\n",
       "       [0.42905896],\n",
       "       [0.71841417],\n",
       "       [0.23413448],\n",
       "       [0.28122277],\n",
       "       [0.31313535],\n",
       "       [0.34123584],\n",
       "       [0.37489108],\n",
       "       [0.30845193],\n",
       "       [0.32925501],\n",
       "       [0.38912286],\n",
       "       [0.31556782],\n",
       "       [0.36723061],\n",
       "       [0.41366541],\n",
       "       [0.733009  ],\n",
       "       [0.22792623],\n",
       "       [0.2860151 ],\n",
       "       [0.37946558],\n",
       "       [0.36683125],\n",
       "       [0.39170055],\n",
       "       [0.33401104],\n",
       "       [0.35957014],\n",
       "       [0.39881644],\n",
       "       [0.33742376],\n",
       "       [0.3802643 ],\n",
       "       [0.47433198],\n",
       "       [0.78445396],\n",
       "       [0.24560703],\n",
       "       [0.32649579],\n",
       "       [0.41076096],\n",
       "       [0.42510166],\n",
       "       [0.42960354],\n",
       "       [0.39373366],\n",
       "       [0.39932472],\n",
       "       [0.44746587],\n",
       "       [0.40157566],\n",
       "       [0.41086988],\n",
       "       [0.50896747],\n",
       "       [0.87750508],\n",
       "       [0.26938716],\n",
       "       [0.39910688],\n",
       "       [0.48010456],\n",
       "       [0.4234316 ],\n",
       "       [0.4724804 ],\n",
       "       [0.42764304],\n",
       "       [0.41126924],\n",
       "       [0.50145222],\n",
       "       [0.41580744],\n",
       "       [0.43229015],\n",
       "       [0.54741505],\n",
       "       [0.89188208],\n",
       "       [0.29832268],\n",
       "       [0.37917514],\n",
       "       [0.49509875],\n",
       "       [0.44430729],\n",
       "       [0.50254139],\n",
       "       [0.43570288],\n",
       "       [0.44430729],\n",
       "       [0.5307871 ],\n",
       "       [0.40564188],\n",
       "       [0.46895876],\n",
       "       [0.56269968],\n",
       "       [0.89456869],\n",
       "       [0.29919402],\n",
       "       [0.38371333],\n",
       "       [0.47676445],\n",
       "       [0.48591345],\n",
       "       [0.53115016],\n",
       "       [0.43599332],\n",
       "       [0.46797851],\n",
       "       [0.54658002],\n",
       "       [0.42506535],\n",
       "       [0.48221028],\n",
       "       [0.60096573],\n",
       "       [0.93305257],\n",
       "       [0.32043276],\n",
       "       [0.40088586],\n",
       "       [0.50152483],\n",
       "       [0.48834592],\n",
       "       [0.55209846],\n",
       "       [0.46213331],\n",
       "       [0.49469939],\n",
       "       [0.5582341 ],\n",
       "       [0.44339965],\n",
       "       [0.4973497 ],\n",
       "       [0.5864072 ],\n",
       "       [0.95872059],\n",
       "       [0.31789137],\n",
       "       [0.43570288],\n",
       "       [0.52839094],\n",
       "       [0.48976184],\n",
       "       [0.53434505],\n",
       "       [0.48003195],\n",
       "       [0.49843886],\n",
       "       [0.56092071],\n",
       "       [0.4665989 ],\n",
       "       [0.49237584],\n",
       "       [0.60652048],\n",
       "       [1.        ],\n",
       "       [0.3167659 ],\n",
       "       [0.39235405],\n",
       "       [0.51154516],\n",
       "       [0.50515539],\n",
       "       [0.53252977],\n",
       "       [0.48591345],\n",
       "       [0.49364653],\n",
       "       [0.56629393],\n",
       "       [0.46405751],\n",
       "       [0.48536886],\n",
       "       [0.63534708],\n",
       "       [0.97233517],\n",
       "       [0.32468051],\n",
       "       [0.42285071],\n",
       "       [0.5615016 ],\n",
       "       [0.49658728]])"
      ]
     },
     "execution_count": 90,
     "metadata": {},
     "output_type": "execute_result"
    }
   ],
   "source": [
    "scaled_train"
   ]
  },
  {
   "cell_type": "code",
   "execution_count": 137,
   "metadata": {},
   "outputs": [],
   "source": [
    "from tensorflow.keras.models import Sequential\n",
    "from tensorflow.keras.layers import Dense, LSTM"
   ]
  },
  {
   "cell_type": "code",
   "execution_count": 138,
   "metadata": {},
   "outputs": [],
   "source": [
    "n_features = 1"
   ]
  },
  {
   "cell_type": "code",
   "execution_count": 165,
   "metadata": {},
   "outputs": [],
   "source": [
    "# define model\n",
    "model = Sequential()\n",
    "model.add(LSTM(100, activation='relu', input_shape=(length, n_features)))\n",
    "model.add(Dense(1))\n",
    "model.compile(optimizer='adam', loss='mse')"
   ]
  },
  {
   "cell_type": "code",
   "execution_count": 166,
   "metadata": {},
   "outputs": [
    {
     "name": "stdout",
     "output_type": "stream",
     "text": [
      "_________________________________________________________________\n",
      "Layer (type)                 Output Shape              Param #   \n",
      "=================================================================\n",
      "lstm_5 (LSTM)                (None, 100)               40800     \n",
      "_________________________________________________________________\n",
      "dense_5 (Dense)              (None, 1)                 101       \n",
      "=================================================================\n",
      "Total params: 40,901\n",
      "Trainable params: 40,901\n",
      "Non-trainable params: 0\n",
      "_________________________________________________________________\n"
     ]
    }
   ],
   "source": [
    "model.summary()"
   ]
  },
  {
   "cell_type": "code",
   "execution_count": 167,
   "metadata": {},
   "outputs": [],
   "source": [
    "from tensorflow.keras.callbacks import EarlyStopping\n",
    "early_stop = EarlyStopping(monitor='val_loss', patience=2)"
   ]
  },
  {
   "cell_type": "code",
   "execution_count": 168,
   "metadata": {},
   "outputs": [],
   "source": [
    "validation_generator = TimeseriesGenerator(scaled_test, scaled_test, length=length, batch_size=1)"
   ]
  },
  {
   "cell_type": "code",
   "execution_count": 169,
   "metadata": {},
   "outputs": [
    {
     "name": "stdout",
     "output_type": "stream",
     "text": [
      "Epoch 1/20\n",
      "6/6 [==============================] - 0s 54ms/step - loss: 0.0036\n",
      "322/322 [==============================] - 7s 23ms/step - loss: 0.0284 - val_loss: 0.0036\n",
      "Epoch 2/20\n",
      "6/6 [==============================] - 0s 4ms/step - loss: 0.0042\n",
      "322/322 [==============================] - 5s 16ms/step - loss: 0.0195 - val_loss: 0.0042\n",
      "Epoch 3/20\n",
      "6/6 [==============================] - 0s 4ms/step - loss: 0.0048\n",
      "322/322 [==============================] - 6s 18ms/step - loss: 0.0162 - val_loss: 0.0048\n"
     ]
    },
    {
     "data": {
      "text/plain": [
       "<tensorflow.python.keras.callbacks.History at 0x2cdbbaca548>"
      ]
     },
     "execution_count": 169,
     "metadata": {},
     "output_type": "execute_result"
    }
   ],
   "source": [
    "model.fit_generator(generator, epochs=20, validation_data=validation_generator, callbacks=[early_stop])"
   ]
  },
  {
   "cell_type": "code",
   "execution_count": 170,
   "metadata": {},
   "outputs": [
    {
     "data": {
      "text/plain": [
       "[<matplotlib.lines.Line2D at 0x2cdbbb33788>,\n",
       " <matplotlib.lines.Line2D at 0x2cdbbb40148>]"
      ]
     },
     "execution_count": 170,
     "metadata": {},
     "output_type": "execute_result"
    },
    {
     "data": {
      "image/png": "[encoded data removed]",
      "text/plain": [
       "<Figure size 432x288 with 1 Axes>"
      ]
     },
     "metadata": {
      "needs_background": "light"
     },
     "output_type": "display_data"
    }
   ],
   "source": [
    "loss = pd.DataFrame(model.history.history)\n",
    "plt.plot(loss)"
   ]
  },
  {
   "cell_type": "code",
   "execution_count": 145,
   "metadata": {},
   "outputs": [],
   "source": [
    "test_predictions = []\n",
    "\n",
    "first_eval_batch = scaled_train[-length:]\n",
    "current_batch = first_eval_batch.reshape((1, length, n_features))\n",
    "\n",
    "for i in range(len(test)):\n",
    "    # predict one step ahead\n",
    "    current_prediction = model.predict(current_batch)[0]\n",
    "    \n",
    "    # save all predictions to test_predictions list\n",
    "    test_predictions.append(current_prediction)\n",
    "    \n",
    "    # update batch with last prediction and drop previous values\n",
    "    current_batch = np.append(current_batch[:, 1:, :], [[current_prediction]], axis=1)"
   ]
  },
  {
   "cell_type": "code",
   "execution_count": 146,
   "metadata": {},
   "outputs": [],
   "source": [
    "real_predictions = scaler.inverse_transform(test_predictions)"
   ]
  },
  {
   "cell_type": "code",
   "execution_count": 147,
   "metadata": {},
   "outputs": [
    {
     "name": "stderr",
     "output_type": "stream",
     "text": [
      "C:\\Users\\agamm\\Anaconda3\\lib\\site-packages\\ipykernel_launcher.py:1: SettingWithCopyWarning: \n",
      "A value is trying to be set on a copy of a slice from a DataFrame.\n",
      "Try using .loc[row_indexer,col_indexer] = value instead\n",
      "\n",
      "See the caveats in the documentation: https://pandas.pydata.org/pandas-docs/stable/user_guide/indexing.html#returning-a-view-versus-a-copy\n",
      "  \"\"\"Entry point for launching an IPython kernel.\n"
     ]
    }
   ],
   "source": [
    "test['Predictions'] = real_predictions"
   ]
  },
  {
   "cell_type": "code",
   "execution_count": 148,
   "metadata": {},
   "outputs": [
    {
     "data": {
      "text/plain": [
       "<matplotlib.axes._subplots.AxesSubplot at 0x2cdb79c0388>"
      ]
     },
     "execution_count": 148,
     "metadata": {},
     "output_type": "execute_result"
    },
    {
     "data": {
      "image/png": "[encoded data removed]",
      "text/plain": [
       "<Figure size 432x288 with 1 Axes>"
      ]
     },
     "metadata": {
      "needs_background": "light"
     },
     "output_type": "display_data"
    }
   ],
   "source": [
    "test.plot()"
   ]
  },
  {
   "cell_type": "code",
   "execution_count": 149,
   "metadata": {},
   "outputs": [],
   "source": [
    "# Forecast future\n"
   ]
  },
  {
   "cell_type": "code",
   "execution_count": 150,
   "metadata": {},
   "outputs": [],
   "source": [
    "full_scaler = MinMaxScaler()"
   ]
  },
  {
   "cell_type": "code",
   "execution_count": 151,
   "metadata": {},
   "outputs": [],
   "source": [
    "scaled_all_data = full_scaler.fit_transform(df)"
   ]
  },
  {
   "cell_type": "code",
   "execution_count": 152,
   "metadata": {},
   "outputs": [],
   "source": [
    "length = 12\n",
    "generator = TimeseriesGenerator(scaled_all_data, scaled_all_data, length=length, batch_size=1)"
   ]
  },
  {
   "cell_type": "code",
   "execution_count": 153,
   "metadata": {},
   "outputs": [],
   "source": [
    "model = Sequential()\n",
    "model.add(LSTM(100, activation='relu', input_shape=(length, n_features)))\n",
    "model.add(Dense(1))\n",
    "model.compile(optimizer='adam', loss='mse')"
   ]
  },
  {
   "cell_type": "code",
   "execution_count": 154,
   "metadata": {},
   "outputs": [
    {
     "name": "stdout",
     "output_type": "stream",
     "text": [
      "_________________________________________________________________\n",
      "Layer (type)                 Output Shape              Param #   \n",
      "=================================================================\n",
      "lstm_4 (LSTM)                (None, 100)               40800     \n",
      "_________________________________________________________________\n",
      "dense_4 (Dense)              (None, 1)                 101       \n",
      "=================================================================\n",
      "Total params: 40,901\n",
      "Trainable params: 40,901\n",
      "Non-trainable params: 0\n",
      "_________________________________________________________________\n"
     ]
    }
   ],
   "source": [
    "model.summary()"
   ]
  },
  {
   "cell_type": "code",
   "execution_count": 155,
   "metadata": {},
   "outputs": [
    {
     "name": "stdout",
     "output_type": "stream",
     "text": [
      "Epoch 1/8\n",
      "322/322 [==============================] - 7s 22ms/step - loss: 0.0282: 0s - los\n",
      "Epoch 2/8\n",
      "322/322 [==============================] - 5s 15ms/step - loss: 0.0184\n",
      "Epoch 3/8\n",
      "322/322 [==============================] - 6s 18ms/step - loss: 0.0114\n",
      "Epoch 4/8\n",
      "322/322 [==============================] - 7s 21ms/step - loss: 0.0050\n",
      "Epoch 5/8\n",
      "322/322 [==============================] - 5s 17ms/step - loss: 0.0027\n",
      "Epoch 6/8\n",
      "322/322 [==============================] - 6s 18ms/step - loss: 0.0023: 0s - loss: 0.002\n",
      "Epoch 7/8\n",
      "322/322 [==============================] - 6s 18ms/step - loss: 0.0016\n",
      "Epoch 8/8\n",
      "322/322 [==============================] - 6s 17ms/step - loss: 0.0016\n"
     ]
    },
    {
     "data": {
      "text/plain": [
       "<tensorflow.python.keras.callbacks.History at 0x2cdb893b708>"
      ]
     },
     "execution_count": 155,
     "metadata": {},
     "output_type": "execute_result"
    }
   ],
   "source": [
    "model.fit_generator(generator, epochs=8)"
   ]
  },
  {
   "cell_type": "code",
   "execution_count": 156,
   "metadata": {},
   "outputs": [],
   "source": [
    "forecast = []\n",
    "\n",
    "periods = 12\n",
    "\n",
    "first_eval_batch = scaled_all_data[-length:]\n",
    "current_batch = first_eval_batch.reshape((1, length, n_features))\n",
    "\n",
    "for i in range(periods):\n",
    "    # predict one step ahead\n",
    "    current_prediction = model.predict(current_batch)[0]\n",
    "    \n",
    "    # save all predictions to test_predictions list\n",
    "    forecast.append(current_prediction)\n",
    "    \n",
    "    # update batch with last prediction and drop previous values\n",
    "    current_batch = np.append(current_batch[:, 1:, :], [[current_prediction]], axis=1)"
   ]
  },
  {
   "cell_type": "code",
   "execution_count": 157,
   "metadata": {},
   "outputs": [],
   "source": [
    "real_forecast = scaler.inverse_transform(forecast)"
   ]
  },
  {
   "cell_type": "code",
   "execution_count": 158,
   "metadata": {},
   "outputs": [
    {
     "data": {
      "text/plain": [
       "array([[24408.61067677],\n",
       "       [31383.20609188],\n",
       "       [17087.66914821],\n",
       "       [18424.17212749],\n",
       "       [21374.1700983 ],\n",
       "       [20970.6541338 ],\n",
       "       [22170.50766563],\n",
       "       [20595.71529651],\n",
       "       [21051.65481186],\n",
       "       [22606.49416828],\n",
       "       [19651.30662465],\n",
       "       [20706.08688807]])"
      ]
     },
     "execution_count": 158,
     "metadata": {},
     "output_type": "execute_result"
    }
   ],
   "source": [
    "real_forecast"
   ]
  },
  {
   "cell_type": "code",
   "execution_count": 159,
   "metadata": {},
   "outputs": [],
   "source": [
    "forecast_index = pd.date_range(start='2019-11-01', periods=12, freq=\"MS\")"
   ]
  },
  {
   "cell_type": "code",
   "execution_count": 160,
   "metadata": {},
   "outputs": [
    {
     "data": {
      "text/plain": [
       "DatetimeIndex(['2019-11-01', '2019-12-01', '2020-01-01', '2020-02-01',\n",
       "               '2020-03-01', '2020-04-01', '2020-05-01', '2020-06-01',\n",
       "               '2020-07-01', '2020-08-01', '2020-09-01', '2020-10-01'],\n",
       "              dtype='datetime64[ns]', freq='MS')"
      ]
     },
     "execution_count": 160,
     "metadata": {},
     "output_type": "execute_result"
    }
   ],
   "source": [
    "forecast_index"
   ]
  },
  {
   "cell_type": "code",
   "execution_count": 161,
   "metadata": {},
   "outputs": [],
   "source": [
    "forecast_df = pd.DataFrame(forecast, forecast_index, columns=['Forecast'])"
   ]
  },
  {
   "cell_type": "code",
   "execution_count": 162,
   "metadata": {},
   "outputs": [
    {
     "data": {
      "text/plain": [
       "<matplotlib.axes._subplots.AxesSubplot at 0x2cdb8992508>"
      ]
     },
     "execution_count": 162,
     "metadata": {},
     "output_type": "execute_result"
    },
    {
     "data": {
      "image/png": "[encoded data removed]",
      "text/plain": [
       "<Figure size 432x288 with 1 Axes>"
      ]
     },
     "metadata": {
      "needs_background": "light"
     },
     "output_type": "display_data"
    },
    {
     "data": {
      "image/png": "[encoded data removed]",
      "text/plain": [
       "<Figure size 432x288 with 1 Axes>"
      ]
     },
     "metadata": {
      "needs_background": "light"
     },
     "output_type": "display_data"
    }
   ],
   "source": [
    "forecast_df.plot()\n",
    "df.plot()"
   ]
  },
  {
   "cell_type": "code",
   "execution_count": 164,
   "metadata": {},
   "outputs": [
    {
     "data": {
      "text/plain": [
       "<matplotlib.axes._subplots.AxesSubplot at 0x2cdbaacc888>"
      ]
     },
     "execution_count": 164,
     "metadata": {},
     "output_type": "execute_result"
    },
    {
     "data": {
      "image/png": "[encoded data removed]",
      "text/plain": [
       "<Figure size 432x288 with 1 Axes>"
      ]
     },
     "metadata": {
      "needs_background": "light"
     },
     "output_type": "display_data"
    }
   ],
   "source": [
    "ax = df.plot()\n",
    "forecast_df.plot(ax=ax)\n",
    "# plt.xlim('2018-01-01', '2020-01-10')"
   ]
  },
  {
   "cell_type": "code",
   "execution_count": null,
   "metadata": {},
   "outputs": [],
   "source": []
  },
  {
   "cell_type": "code",
   "execution_count": null,
   "metadata": {},
   "outputs": [],
   "source": []
  },
  {
   "cell_type": "code",
   "execution_count": null,
   "metadata": {},
   "outputs": [],
   "source": []
  }
 ],
 "metadata": {
  "kernelspec": {
   "display_name": "Python 3",
   "language": "python",
   "name": "python3"
  },
  "language_info": {
   "codemirror_mode": {
    "name": "ipython",
    "version": 3
   },
   "file_extension": ".py",
   "mimetype": "text/x-python",
   "name": "python",
   "nbconvert_exporter": "python",
   "pygments_lexer": "ipython3",
   "version": "3.7.6"
  }
 },
 "nbformat": 4,
 "nbformat_minor": 4
}
