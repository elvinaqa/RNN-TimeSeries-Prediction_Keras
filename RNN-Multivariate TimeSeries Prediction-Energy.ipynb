{
 "cells": [
  {
   "cell_type": "code",
   "execution_count": 6,
   "metadata": {},
   "outputs": [],
   "source": [
    "import pandas as pd\n",
    "import numpy as np\n",
    "import matplotlib.pyplot as plt\n",
    "import seaborn as sns"
   ]
  },
  {
   "cell_type": "code",
   "execution_count": 3,
   "metadata": {},
   "outputs": [],
   "source": [
    "df = pd.read_csv('energydata_complete.csv', index_col='date', infer_datetime_format=True)"
   ]
  },
  {
   "cell_type": "code",
   "execution_count": 4,
   "metadata": {},
   "outputs": [
    {
     "data": {
      "text/html": [
       "<div>\n",
       "<style scoped>\n",
       "    .dataframe tbody tr th:only-of-type {\n",
       "        vertical-align: middle;\n",
       "    }\n",
       "\n",
       "    .dataframe tbody tr th {\n",
       "        vertical-align: top;\n",
       "    }\n",
       "\n",
       "    .dataframe thead th {\n",
       "        text-align: right;\n",
       "    }\n",
       "</style>\n",
       "<table border=\"1\" class=\"dataframe\">\n",
       "  <thead>\n",
       "    <tr style=\"text-align: right;\">\n",
       "      <th></th>\n",
       "      <th>Appliances</th>\n",
       "      <th>lights</th>\n",
       "      <th>T1</th>\n",
       "      <th>RH_1</th>\n",
       "      <th>T2</th>\n",
       "      <th>RH_2</th>\n",
       "      <th>T3</th>\n",
       "      <th>RH_3</th>\n",
       "      <th>T4</th>\n",
       "      <th>RH_4</th>\n",
       "      <th>...</th>\n",
       "      <th>T9</th>\n",
       "      <th>RH_9</th>\n",
       "      <th>T_out</th>\n",
       "      <th>Press_mm_hg</th>\n",
       "      <th>RH_out</th>\n",
       "      <th>Windspeed</th>\n",
       "      <th>Visibility</th>\n",
       "      <th>Tdewpoint</th>\n",
       "      <th>rv1</th>\n",
       "      <th>rv2</th>\n",
       "    </tr>\n",
       "    <tr>\n",
       "      <th>date</th>\n",
       "      <th></th>\n",
       "      <th></th>\n",
       "      <th></th>\n",
       "      <th></th>\n",
       "      <th></th>\n",
       "      <th></th>\n",
       "      <th></th>\n",
       "      <th></th>\n",
       "      <th></th>\n",
       "      <th></th>\n",
       "      <th></th>\n",
       "      <th></th>\n",
       "      <th></th>\n",
       "      <th></th>\n",
       "      <th></th>\n",
       "      <th></th>\n",
       "      <th></th>\n",
       "      <th></th>\n",
       "      <th></th>\n",
       "      <th></th>\n",
       "      <th></th>\n",
       "    </tr>\n",
       "  </thead>\n",
       "  <tbody>\n",
       "    <tr>\n",
       "      <th>2016-01-11 17:00:00</th>\n",
       "      <td>60</td>\n",
       "      <td>30</td>\n",
       "      <td>19.890000</td>\n",
       "      <td>47.596667</td>\n",
       "      <td>19.200000</td>\n",
       "      <td>44.790000</td>\n",
       "      <td>19.790000</td>\n",
       "      <td>44.730000</td>\n",
       "      <td>19.000000</td>\n",
       "      <td>45.566667</td>\n",
       "      <td>...</td>\n",
       "      <td>17.033333</td>\n",
       "      <td>45.5300</td>\n",
       "      <td>6.600000</td>\n",
       "      <td>733.5</td>\n",
       "      <td>92.000000</td>\n",
       "      <td>7.000000</td>\n",
       "      <td>63.000000</td>\n",
       "      <td>5.300000</td>\n",
       "      <td>13.275433</td>\n",
       "      <td>13.275433</td>\n",
       "    </tr>\n",
       "    <tr>\n",
       "      <th>2016-01-11 17:10:00</th>\n",
       "      <td>60</td>\n",
       "      <td>30</td>\n",
       "      <td>19.890000</td>\n",
       "      <td>46.693333</td>\n",
       "      <td>19.200000</td>\n",
       "      <td>44.722500</td>\n",
       "      <td>19.790000</td>\n",
       "      <td>44.790000</td>\n",
       "      <td>19.000000</td>\n",
       "      <td>45.992500</td>\n",
       "      <td>...</td>\n",
       "      <td>17.066667</td>\n",
       "      <td>45.5600</td>\n",
       "      <td>6.483333</td>\n",
       "      <td>733.6</td>\n",
       "      <td>92.000000</td>\n",
       "      <td>6.666667</td>\n",
       "      <td>59.166667</td>\n",
       "      <td>5.200000</td>\n",
       "      <td>18.606195</td>\n",
       "      <td>18.606195</td>\n",
       "    </tr>\n",
       "    <tr>\n",
       "      <th>2016-01-11 17:20:00</th>\n",
       "      <td>50</td>\n",
       "      <td>30</td>\n",
       "      <td>19.890000</td>\n",
       "      <td>46.300000</td>\n",
       "      <td>19.200000</td>\n",
       "      <td>44.626667</td>\n",
       "      <td>19.790000</td>\n",
       "      <td>44.933333</td>\n",
       "      <td>18.926667</td>\n",
       "      <td>45.890000</td>\n",
       "      <td>...</td>\n",
       "      <td>17.000000</td>\n",
       "      <td>45.5000</td>\n",
       "      <td>6.366667</td>\n",
       "      <td>733.7</td>\n",
       "      <td>92.000000</td>\n",
       "      <td>6.333333</td>\n",
       "      <td>55.333333</td>\n",
       "      <td>5.100000</td>\n",
       "      <td>28.642668</td>\n",
       "      <td>28.642668</td>\n",
       "    </tr>\n",
       "    <tr>\n",
       "      <th>2016-01-11 17:30:00</th>\n",
       "      <td>50</td>\n",
       "      <td>40</td>\n",
       "      <td>19.890000</td>\n",
       "      <td>46.066667</td>\n",
       "      <td>19.200000</td>\n",
       "      <td>44.590000</td>\n",
       "      <td>19.790000</td>\n",
       "      <td>45.000000</td>\n",
       "      <td>18.890000</td>\n",
       "      <td>45.723333</td>\n",
       "      <td>...</td>\n",
       "      <td>17.000000</td>\n",
       "      <td>45.4000</td>\n",
       "      <td>6.250000</td>\n",
       "      <td>733.8</td>\n",
       "      <td>92.000000</td>\n",
       "      <td>6.000000</td>\n",
       "      <td>51.500000</td>\n",
       "      <td>5.000000</td>\n",
       "      <td>45.410389</td>\n",
       "      <td>45.410389</td>\n",
       "    </tr>\n",
       "    <tr>\n",
       "      <th>2016-01-11 17:40:00</th>\n",
       "      <td>60</td>\n",
       "      <td>40</td>\n",
       "      <td>19.890000</td>\n",
       "      <td>46.333333</td>\n",
       "      <td>19.200000</td>\n",
       "      <td>44.530000</td>\n",
       "      <td>19.790000</td>\n",
       "      <td>45.000000</td>\n",
       "      <td>18.890000</td>\n",
       "      <td>45.530000</td>\n",
       "      <td>...</td>\n",
       "      <td>17.000000</td>\n",
       "      <td>45.4000</td>\n",
       "      <td>6.133333</td>\n",
       "      <td>733.9</td>\n",
       "      <td>92.000000</td>\n",
       "      <td>5.666667</td>\n",
       "      <td>47.666667</td>\n",
       "      <td>4.900000</td>\n",
       "      <td>10.084097</td>\n",
       "      <td>10.084097</td>\n",
       "    </tr>\n",
       "    <tr>\n",
       "      <th>...</th>\n",
       "      <td>...</td>\n",
       "      <td>...</td>\n",
       "      <td>...</td>\n",
       "      <td>...</td>\n",
       "      <td>...</td>\n",
       "      <td>...</td>\n",
       "      <td>...</td>\n",
       "      <td>...</td>\n",
       "      <td>...</td>\n",
       "      <td>...</td>\n",
       "      <td>...</td>\n",
       "      <td>...</td>\n",
       "      <td>...</td>\n",
       "      <td>...</td>\n",
       "      <td>...</td>\n",
       "      <td>...</td>\n",
       "      <td>...</td>\n",
       "      <td>...</td>\n",
       "      <td>...</td>\n",
       "      <td>...</td>\n",
       "      <td>...</td>\n",
       "    </tr>\n",
       "    <tr>\n",
       "      <th>2016-05-27 17:20:00</th>\n",
       "      <td>100</td>\n",
       "      <td>0</td>\n",
       "      <td>25.566667</td>\n",
       "      <td>46.560000</td>\n",
       "      <td>25.890000</td>\n",
       "      <td>42.025714</td>\n",
       "      <td>27.200000</td>\n",
       "      <td>41.163333</td>\n",
       "      <td>24.700000</td>\n",
       "      <td>45.590000</td>\n",
       "      <td>...</td>\n",
       "      <td>23.200000</td>\n",
       "      <td>46.7900</td>\n",
       "      <td>22.733333</td>\n",
       "      <td>755.2</td>\n",
       "      <td>55.666667</td>\n",
       "      <td>3.333333</td>\n",
       "      <td>23.666667</td>\n",
       "      <td>13.333333</td>\n",
       "      <td>43.096812</td>\n",
       "      <td>43.096812</td>\n",
       "    </tr>\n",
       "    <tr>\n",
       "      <th>2016-05-27 17:30:00</th>\n",
       "      <td>90</td>\n",
       "      <td>0</td>\n",
       "      <td>25.500000</td>\n",
       "      <td>46.500000</td>\n",
       "      <td>25.754000</td>\n",
       "      <td>42.080000</td>\n",
       "      <td>27.133333</td>\n",
       "      <td>41.223333</td>\n",
       "      <td>24.700000</td>\n",
       "      <td>45.590000</td>\n",
       "      <td>...</td>\n",
       "      <td>23.200000</td>\n",
       "      <td>46.7900</td>\n",
       "      <td>22.600000</td>\n",
       "      <td>755.2</td>\n",
       "      <td>56.000000</td>\n",
       "      <td>3.500000</td>\n",
       "      <td>24.500000</td>\n",
       "      <td>13.300000</td>\n",
       "      <td>49.282940</td>\n",
       "      <td>49.282940</td>\n",
       "    </tr>\n",
       "    <tr>\n",
       "      <th>2016-05-27 17:40:00</th>\n",
       "      <td>270</td>\n",
       "      <td>10</td>\n",
       "      <td>25.500000</td>\n",
       "      <td>46.596667</td>\n",
       "      <td>25.628571</td>\n",
       "      <td>42.768571</td>\n",
       "      <td>27.050000</td>\n",
       "      <td>41.690000</td>\n",
       "      <td>24.700000</td>\n",
       "      <td>45.730000</td>\n",
       "      <td>...</td>\n",
       "      <td>23.200000</td>\n",
       "      <td>46.7900</td>\n",
       "      <td>22.466667</td>\n",
       "      <td>755.2</td>\n",
       "      <td>56.333333</td>\n",
       "      <td>3.666667</td>\n",
       "      <td>25.333333</td>\n",
       "      <td>13.266667</td>\n",
       "      <td>29.199117</td>\n",
       "      <td>29.199117</td>\n",
       "    </tr>\n",
       "    <tr>\n",
       "      <th>2016-05-27 17:50:00</th>\n",
       "      <td>420</td>\n",
       "      <td>10</td>\n",
       "      <td>25.500000</td>\n",
       "      <td>46.990000</td>\n",
       "      <td>25.414000</td>\n",
       "      <td>43.036000</td>\n",
       "      <td>26.890000</td>\n",
       "      <td>41.290000</td>\n",
       "      <td>24.700000</td>\n",
       "      <td>45.790000</td>\n",
       "      <td>...</td>\n",
       "      <td>23.200000</td>\n",
       "      <td>46.8175</td>\n",
       "      <td>22.333333</td>\n",
       "      <td>755.2</td>\n",
       "      <td>56.666667</td>\n",
       "      <td>3.833333</td>\n",
       "      <td>26.166667</td>\n",
       "      <td>13.233333</td>\n",
       "      <td>6.322784</td>\n",
       "      <td>6.322784</td>\n",
       "    </tr>\n",
       "    <tr>\n",
       "      <th>2016-05-27 18:00:00</th>\n",
       "      <td>430</td>\n",
       "      <td>10</td>\n",
       "      <td>25.500000</td>\n",
       "      <td>46.600000</td>\n",
       "      <td>25.264286</td>\n",
       "      <td>42.971429</td>\n",
       "      <td>26.823333</td>\n",
       "      <td>41.156667</td>\n",
       "      <td>24.700000</td>\n",
       "      <td>45.963333</td>\n",
       "      <td>...</td>\n",
       "      <td>23.200000</td>\n",
       "      <td>46.8450</td>\n",
       "      <td>22.200000</td>\n",
       "      <td>755.2</td>\n",
       "      <td>57.000000</td>\n",
       "      <td>4.000000</td>\n",
       "      <td>27.000000</td>\n",
       "      <td>13.200000</td>\n",
       "      <td>34.118851</td>\n",
       "      <td>34.118851</td>\n",
       "    </tr>\n",
       "  </tbody>\n",
       "</table>\n",
       "<p>19735 rows × 28 columns</p>\n",
       "</div>"
      ],
      "text/plain": [
       "                     Appliances  lights         T1       RH_1         T2  \\\n",
       "date                                                                       \n",
       "2016-01-11 17:00:00          60      30  19.890000  47.596667  19.200000   \n",
       "2016-01-11 17:10:00          60      30  19.890000  46.693333  19.200000   \n",
       "2016-01-11 17:20:00          50      30  19.890000  46.300000  19.200000   \n",
       "2016-01-11 17:30:00          50      40  19.890000  46.066667  19.200000   \n",
       "2016-01-11 17:40:00          60      40  19.890000  46.333333  19.200000   \n",
       "...                         ...     ...        ...        ...        ...   \n",
       "2016-05-27 17:20:00         100       0  25.566667  46.560000  25.890000   \n",
       "2016-05-27 17:30:00          90       0  25.500000  46.500000  25.754000   \n",
       "2016-05-27 17:40:00         270      10  25.500000  46.596667  25.628571   \n",
       "2016-05-27 17:50:00         420      10  25.500000  46.990000  25.414000   \n",
       "2016-05-27 18:00:00         430      10  25.500000  46.600000  25.264286   \n",
       "\n",
       "                          RH_2         T3       RH_3         T4       RH_4  \\\n",
       "date                                                                         \n",
       "2016-01-11 17:00:00  44.790000  19.790000  44.730000  19.000000  45.566667   \n",
       "2016-01-11 17:10:00  44.722500  19.790000  44.790000  19.000000  45.992500   \n",
       "2016-01-11 17:20:00  44.626667  19.790000  44.933333  18.926667  45.890000   \n",
       "2016-01-11 17:30:00  44.590000  19.790000  45.000000  18.890000  45.723333   \n",
       "2016-01-11 17:40:00  44.530000  19.790000  45.000000  18.890000  45.530000   \n",
       "...                        ...        ...        ...        ...        ...   \n",
       "2016-05-27 17:20:00  42.025714  27.200000  41.163333  24.700000  45.590000   \n",
       "2016-05-27 17:30:00  42.080000  27.133333  41.223333  24.700000  45.590000   \n",
       "2016-05-27 17:40:00  42.768571  27.050000  41.690000  24.700000  45.730000   \n",
       "2016-05-27 17:50:00  43.036000  26.890000  41.290000  24.700000  45.790000   \n",
       "2016-05-27 18:00:00  42.971429  26.823333  41.156667  24.700000  45.963333   \n",
       "\n",
       "                     ...         T9     RH_9      T_out  Press_mm_hg  \\\n",
       "date                 ...                                               \n",
       "2016-01-11 17:00:00  ...  17.033333  45.5300   6.600000        733.5   \n",
       "2016-01-11 17:10:00  ...  17.066667  45.5600   6.483333        733.6   \n",
       "2016-01-11 17:20:00  ...  17.000000  45.5000   6.366667        733.7   \n",
       "2016-01-11 17:30:00  ...  17.000000  45.4000   6.250000        733.8   \n",
       "2016-01-11 17:40:00  ...  17.000000  45.4000   6.133333        733.9   \n",
       "...                  ...        ...      ...        ...          ...   \n",
       "2016-05-27 17:20:00  ...  23.200000  46.7900  22.733333        755.2   \n",
       "2016-05-27 17:30:00  ...  23.200000  46.7900  22.600000        755.2   \n",
       "2016-05-27 17:40:00  ...  23.200000  46.7900  22.466667        755.2   \n",
       "2016-05-27 17:50:00  ...  23.200000  46.8175  22.333333        755.2   \n",
       "2016-05-27 18:00:00  ...  23.200000  46.8450  22.200000        755.2   \n",
       "\n",
       "                        RH_out  Windspeed  Visibility  Tdewpoint        rv1  \\\n",
       "date                                                                          \n",
       "2016-01-11 17:00:00  92.000000   7.000000   63.000000   5.300000  13.275433   \n",
       "2016-01-11 17:10:00  92.000000   6.666667   59.166667   5.200000  18.606195   \n",
       "2016-01-11 17:20:00  92.000000   6.333333   55.333333   5.100000  28.642668   \n",
       "2016-01-11 17:30:00  92.000000   6.000000   51.500000   5.000000  45.410389   \n",
       "2016-01-11 17:40:00  92.000000   5.666667   47.666667   4.900000  10.084097   \n",
       "...                        ...        ...         ...        ...        ...   \n",
       "2016-05-27 17:20:00  55.666667   3.333333   23.666667  13.333333  43.096812   \n",
       "2016-05-27 17:30:00  56.000000   3.500000   24.500000  13.300000  49.282940   \n",
       "2016-05-27 17:40:00  56.333333   3.666667   25.333333  13.266667  29.199117   \n",
       "2016-05-27 17:50:00  56.666667   3.833333   26.166667  13.233333   6.322784   \n",
       "2016-05-27 18:00:00  57.000000   4.000000   27.000000  13.200000  34.118851   \n",
       "\n",
       "                           rv2  \n",
       "date                            \n",
       "2016-01-11 17:00:00  13.275433  \n",
       "2016-01-11 17:10:00  18.606195  \n",
       "2016-01-11 17:20:00  28.642668  \n",
       "2016-01-11 17:30:00  45.410389  \n",
       "2016-01-11 17:40:00  10.084097  \n",
       "...                        ...  \n",
       "2016-05-27 17:20:00  43.096812  \n",
       "2016-05-27 17:30:00  49.282940  \n",
       "2016-05-27 17:40:00  29.199117  \n",
       "2016-05-27 17:50:00   6.322784  \n",
       "2016-05-27 18:00:00  34.118851  \n",
       "\n",
       "[19735 rows x 28 columns]"
      ]
     },
     "execution_count": 4,
     "metadata": {},
     "output_type": "execute_result"
    }
   ],
   "source": [
    "df"
   ]
  },
  {
   "cell_type": "code",
   "execution_count": 20,
   "metadata": {},
   "outputs": [
    {
     "data": {
      "text/plain": [
       "<matplotlib.axes._subplots.AxesSubplot at 0x15d48b5bd88>"
      ]
     },
     "execution_count": 20,
     "metadata": {},
     "output_type": "execute_result"
    },
    {
     "data": {
      "image/png": "[encoded data removed]",
      "text/plain": [
       "<Figure size 1440x864 with 1 Axes>"
      ]
     },
     "metadata": {
      "needs_background": "light"
     },
     "output_type": "display_data"
    }
   ],
   "source": [
    "df['Appliances'].plot(figsize=(20, 12))"
   ]
  },
  {
   "cell_type": "code",
   "execution_count": 21,
   "metadata": {},
   "outputs": [
    {
     "data": {
      "text/plain": [
       "19735"
      ]
     },
     "execution_count": 21,
     "metadata": {},
     "output_type": "execute_result"
    }
   ],
   "source": [
    "len(df)"
   ]
  },
  {
   "cell_type": "code",
   "execution_count": 24,
   "metadata": {},
   "outputs": [],
   "source": [
    "df = df.loc['2016-05-01':]"
   ]
  },
  {
   "cell_type": "code",
   "execution_count": 25,
   "metadata": {},
   "outputs": [],
   "source": [
    "df = df.round(2)"
   ]
  },
  {
   "cell_type": "code",
   "execution_count": 27,
   "metadata": {},
   "outputs": [],
   "source": [
    "test_days = 2\n",
    "test_index = 288 # 2*144"
   ]
  },
  {
   "cell_type": "code",
   "execution_count": 32,
   "metadata": {},
   "outputs": [],
   "source": [
    "train = df.iloc[:-test_index]\n",
    "test = df.iloc[-test_index:]"
   ]
  },
  {
   "cell_type": "code",
   "execution_count": 33,
   "metadata": {},
   "outputs": [
    {
     "data": {
      "text/plain": [
       "3565"
      ]
     },
     "execution_count": 33,
     "metadata": {},
     "output_type": "execute_result"
    }
   ],
   "source": [
    "len(train)"
   ]
  },
  {
   "cell_type": "code",
   "execution_count": 34,
   "metadata": {},
   "outputs": [
    {
     "data": {
      "text/plain": [
       "288"
      ]
     },
     "execution_count": 34,
     "metadata": {},
     "output_type": "execute_result"
    }
   ],
   "source": [
    "len(test)"
   ]
  },
  {
   "cell_type": "code",
   "execution_count": 36,
   "metadata": {},
   "outputs": [],
   "source": [
    "from sklearn.preprocessing import MinMaxScaler\n",
    "scaler = MinMaxScaler()"
   ]
  },
  {
   "cell_type": "code",
   "execution_count": 37,
   "metadata": {},
   "outputs": [],
   "source": [
    "scaled_train = scaler.fit_transform(train)\n",
    "scaled_test = scaler.transform(test)"
   ]
  },
  {
   "cell_type": "code",
   "execution_count": 38,
   "metadata": {},
   "outputs": [],
   "source": [
    "from tensorflow.keras.preprocessing.sequence import TimeseriesGenerator"
   ]
  },
  {
   "cell_type": "code",
   "execution_count": 39,
   "metadata": {},
   "outputs": [],
   "source": [
    "length = 144\n",
    "generator = TimeseriesGenerator(scaled_train, scaled_train, length=length, batch_size=1)"
   ]
  },
  {
   "cell_type": "code",
   "execution_count": 40,
   "metadata": {},
   "outputs": [
    {
     "data": {
      "text/plain": [
       "3565"
      ]
     },
     "execution_count": 40,
     "metadata": {},
     "output_type": "execute_result"
    }
   ],
   "source": [
    "len(scaled_train)"
   ]
  },
  {
   "cell_type": "code",
   "execution_count": 41,
   "metadata": {},
   "outputs": [
    {
     "data": {
      "text/plain": [
       "3421"
      ]
     },
     "execution_count": 41,
     "metadata": {},
     "output_type": "execute_result"
    }
   ],
   "source": [
    "len(generator)"
   ]
  },
  {
   "cell_type": "code",
   "execution_count": 42,
   "metadata": {},
   "outputs": [],
   "source": [
    "from tensorflow.keras.models import Sequential\n",
    "from tensorflow.keras.layers import LSTM, Dense\n",
    "from tensorflow.keras.callbacks import EarlyStopping"
   ]
  },
  {
   "cell_type": "code",
   "execution_count": 43,
   "metadata": {},
   "outputs": [
    {
     "name": "stdout",
     "output_type": "stream",
     "text": [
      "WARNING:tensorflow:From C:\\Users\\agamm\\Anaconda3\\lib\\site-packages\\tensorflow\\python\\ops\\resource_variable_ops.py:435: colocate_with (from tensorflow.python.framework.ops) is deprecated and will be removed in a future version.\n",
      "Instructions for updating:\n",
      "Colocations handled automatically by placer.\n",
      "WARNING:tensorflow:From C:\\Users\\agamm\\Anaconda3\\lib\\site-packages\\tensorflow\\python\\keras\\utils\\losses_utils.py:170: to_float (from tensorflow.python.ops.math_ops) is deprecated and will be removed in a future version.\n",
      "Instructions for updating:\n",
      "Use tf.cast instead.\n"
     ]
    }
   ],
   "source": [
    "model = Sequential()\n",
    "# we have 28 columns thus taking scaled_train.shape\n",
    "model.add(LSTM(25, input_shape=(length, scaled_train.shape[1])))\n",
    "model.add(Dense(scaled_train.shape[1]))\n",
    "model.compile(optimizer='adam', loss='mse')"
   ]
  },
  {
   "cell_type": "code",
   "execution_count": 44,
   "metadata": {},
   "outputs": [
    {
     "name": "stdout",
     "output_type": "stream",
     "text": [
      "_________________________________________________________________\n",
      "Layer (type)                 Output Shape              Param #   \n",
      "=================================================================\n",
      "lstm (LSTM)                  (None, 25)                5400      \n",
      "_________________________________________________________________\n",
      "dense (Dense)                (None, 28)                728       \n",
      "=================================================================\n",
      "Total params: 6,128\n",
      "Trainable params: 6,128\n",
      "Non-trainable params: 0\n",
      "_________________________________________________________________\n"
     ]
    }
   ],
   "source": [
    "model.summary()"
   ]
  },
  {
   "cell_type": "code",
   "execution_count": 45,
   "metadata": {},
   "outputs": [],
   "source": [
    "early_stop = EarlyStopping(monitor='val_loss', patience=1)"
   ]
  },
  {
   "cell_type": "code",
   "execution_count": 46,
   "metadata": {},
   "outputs": [],
   "source": [
    "validation_generator = TimeseriesGenerator(scaled_test, scaled_test, length=length, batch_size=1)"
   ]
  },
  {
   "cell_type": "code",
   "execution_count": 47,
   "metadata": {},
   "outputs": [
    {
     "name": "stdout",
     "output_type": "stream",
     "text": [
      "WARNING:tensorflow:From C:\\Users\\agamm\\Anaconda3\\lib\\site-packages\\tensorflow\\python\\ops\\math_ops.py:3066: to_int32 (from tensorflow.python.ops.math_ops) is deprecated and will be removed in a future version.\n",
      "Instructions for updating:\n",
      "Use tf.cast instead.\n",
      "Epoch 1/2\n",
      "144/144 [==============================] - 4s 31ms/step - loss: 0.0154\n",
      "3421/3421 [==============================] - 497s 145ms/step - loss: 0.0160 - val_loss: 0.0154\n",
      "Epoch 2/2\n",
      "144/144 [==============================] - 4s 26ms/step - loss: 0.0121\n",
      "3421/3421 [==============================] - 522s 153ms/step - loss: 0.0093 - val_loss: 0.0121\n"
     ]
    },
    {
     "data": {
      "text/plain": [
       "<tensorflow.python.keras.callbacks.History at 0x15d5501ac08>"
      ]
     },
     "execution_count": 47,
     "metadata": {},
     "output_type": "execute_result"
    }
   ],
   "source": [
    "model.fit(generator, validation_data=validation_generator, epochs=2, callbacks=[early_stop])"
   ]
  },
  {
   "cell_type": "code",
   "execution_count": 48,
   "metadata": {},
   "outputs": [],
   "source": [
    "losses = pd.DataFrame(model.history.history)"
   ]
  },
  {
   "cell_type": "code",
   "execution_count": 49,
   "metadata": {},
   "outputs": [
    {
     "data": {
      "text/plain": [
       "array([[ 0.14312126, -0.00429261,  0.6196073 ,  0.3924992 ,  0.5525155 ,\n",
       "         0.44573253,  0.3554953 ,  0.46046674,  0.65731233,  0.3615182 ,\n",
       "         0.3329943 ,  0.36503726,  0.6350458 , -0.00741783,  0.6224985 ,\n",
       "         0.38975823,  0.52370125,  0.3330863 ,  0.539526  ,  0.3702218 ,\n",
       "         0.5770404 ,  0.4868654 ,  0.3883248 ,  0.19836202,  0.5197222 ,\n",
       "         0.49033836,  0.4762457 ,  0.49518216]], dtype=float32)"
      ]
     },
     "execution_count": 49,
     "metadata": {},
     "output_type": "execute_result"
    }
   ],
   "source": [
    "first_eval_batch = scaled_train[-length:]\n",
    "\n",
    "first_eval_batchst_eval_batch = first_eval_batch.reshape(1, length, scaled_train.shape[1])\n",
    "\n",
    "model.predict(first_eval_batch)"
   ]
  },
  {
   "cell_type": "code",
   "execution_count": 55,
   "metadata": {},
   "outputs": [
    {
     "data": {
      "text/plain": [
       "array([0.19480519, 0.        , 0.70017036, 0.3920434 , 0.53007217,\n",
       "       0.41064526, 0.40616246, 0.41913319, 0.72714286, 0.4115245 ,\n",
       "       0.30722892, 0.36445121, 0.66777778, 0.        , 0.61119082,\n",
       "       0.39840637, 0.51618399, 0.32953105, 0.53703704, 0.34024896,\n",
       "       0.6057377 , 0.52631579, 0.41881579, 0.2       , 0.55283333,\n",
       "       0.53372781, 0.76305783, 0.76305783])"
      ]
     },
     "execution_count": 55,
     "metadata": {},
     "output_type": "execute_result"
    }
   ],
   "source": [
    "scaled_test[0]"
   ]
  },
  {
   "cell_type": "code",
   "execution_count": 60,
   "metadata": {},
   "outputs": [],
   "source": [
    "n_features = scaled_train.shape[1]\n",
    "test_predictions = []\n",
    "\n",
    "first_eval_batch = scaled_train[-length:]\n",
    "current_batch = first_eval_batch.reshape((1, length, n_features))\n",
    "\n",
    "for i in range(len(test)):\n",
    "    current_pred = model.predict(current_batch)[0]\n",
    "    \n",
    "    test_predictions.append(current_pred)\n",
    "    current_batch = np.append(current_batch[:,1:,:], [[current_pred]], axis=1)"
   ]
  },
  {
   "cell_type": "code",
   "execution_count": 62,
   "metadata": {},
   "outputs": [],
   "source": [
    "test_predictions = scaler.inverse_transform(test_predictions)"
   ]
  },
  {
   "cell_type": "code",
   "execution_count": 63,
   "metadata": {},
   "outputs": [],
   "source": [
    "true_predictions = pd.DataFrame(data=test_predictions, columns=test.columns)"
   ]
  },
  {
   "cell_type": "code",
   "execution_count": 64,
   "metadata": {},
   "outputs": [
    {
     "data": {
      "text/html": [
       "<div>\n",
       "<style scoped>\n",
       "    .dataframe tbody tr th:only-of-type {\n",
       "        vertical-align: middle;\n",
       "    }\n",
       "\n",
       "    .dataframe tbody tr th {\n",
       "        vertical-align: top;\n",
       "    }\n",
       "\n",
       "    .dataframe thead th {\n",
       "        text-align: right;\n",
       "    }\n",
       "</style>\n",
       "<table border=\"1\" class=\"dataframe\">\n",
       "  <thead>\n",
       "    <tr style=\"text-align: right;\">\n",
       "      <th></th>\n",
       "      <th>Appliances</th>\n",
       "      <th>lights</th>\n",
       "      <th>T1</th>\n",
       "      <th>RH_1</th>\n",
       "      <th>T2</th>\n",
       "      <th>RH_2</th>\n",
       "      <th>T3</th>\n",
       "      <th>RH_3</th>\n",
       "      <th>T4</th>\n",
       "      <th>RH_4</th>\n",
       "      <th>...</th>\n",
       "      <th>T9</th>\n",
       "      <th>RH_9</th>\n",
       "      <th>T_out</th>\n",
       "      <th>Press_mm_hg</th>\n",
       "      <th>RH_out</th>\n",
       "      <th>Windspeed</th>\n",
       "      <th>Visibility</th>\n",
       "      <th>Tdewpoint</th>\n",
       "      <th>rv1</th>\n",
       "      <th>rv2</th>\n",
       "    </tr>\n",
       "  </thead>\n",
       "  <tbody>\n",
       "    <tr>\n",
       "      <th>0</th>\n",
       "      <td>130.203368</td>\n",
       "      <td>-0.128778</td>\n",
       "      <td>24.027095</td>\n",
       "      <td>37.872603</td>\n",
       "      <td>24.279868</td>\n",
       "      <td>35.449985</td>\n",
       "      <td>24.638236</td>\n",
       "      <td>37.482031</td>\n",
       "      <td>23.801186</td>\n",
       "      <td>36.687861</td>\n",
       "      <td>...</td>\n",
       "      <td>22.013440</td>\n",
       "      <td>37.880111</td>\n",
       "      <td>15.779785</td>\n",
       "      <td>755.200531</td>\n",
       "      <td>53.512685</td>\n",
       "      <td>1.983620</td>\n",
       "      <td>36.183333</td>\n",
       "      <td>6.886718</td>\n",
       "      <td>23.807998</td>\n",
       "      <td>24.754252</td>\n",
       "    </tr>\n",
       "    <tr>\n",
       "      <th>1</th>\n",
       "      <td>139.694183</td>\n",
       "      <td>-0.526448</td>\n",
       "      <td>23.929984</td>\n",
       "      <td>37.974900</td>\n",
       "      <td>24.222548</td>\n",
       "      <td>35.422928</td>\n",
       "      <td>24.553512</td>\n",
       "      <td>37.346631</td>\n",
       "      <td>23.747222</td>\n",
       "      <td>36.793639</td>\n",
       "      <td>...</td>\n",
       "      <td>22.003228</td>\n",
       "      <td>38.059351</td>\n",
       "      <td>15.627171</td>\n",
       "      <td>755.035334</td>\n",
       "      <td>53.704229</td>\n",
       "      <td>2.086410</td>\n",
       "      <td>35.168629</td>\n",
       "      <td>6.659589</td>\n",
       "      <td>23.710680</td>\n",
       "      <td>24.243900</td>\n",
       "    </tr>\n",
       "    <tr>\n",
       "      <th>2</th>\n",
       "      <td>145.832063</td>\n",
       "      <td>-0.786158</td>\n",
       "      <td>23.870777</td>\n",
       "      <td>38.027620</td>\n",
       "      <td>24.150946</td>\n",
       "      <td>35.513914</td>\n",
       "      <td>24.494786</td>\n",
       "      <td>37.273618</td>\n",
       "      <td>23.694757</td>\n",
       "      <td>36.849952</td>\n",
       "      <td>...</td>\n",
       "      <td>21.986680</td>\n",
       "      <td>38.196718</td>\n",
       "      <td>15.494933</td>\n",
       "      <td>755.009556</td>\n",
       "      <td>54.010336</td>\n",
       "      <td>2.186440</td>\n",
       "      <td>34.490557</td>\n",
       "      <td>6.525291</td>\n",
       "      <td>23.574080</td>\n",
       "      <td>23.983607</td>\n",
       "    </tr>\n",
       "    <tr>\n",
       "      <th>3</th>\n",
       "      <td>149.944696</td>\n",
       "      <td>-0.979119</td>\n",
       "      <td>23.827490</td>\n",
       "      <td>38.055755</td>\n",
       "      <td>24.067926</td>\n",
       "      <td>35.647171</td>\n",
       "      <td>24.444943</td>\n",
       "      <td>37.216779</td>\n",
       "      <td>23.649030</td>\n",
       "      <td>36.868810</td>\n",
       "      <td>...</td>\n",
       "      <td>21.969113</td>\n",
       "      <td>38.314574</td>\n",
       "      <td>15.339501</td>\n",
       "      <td>755.032515</td>\n",
       "      <td>54.281141</td>\n",
       "      <td>2.270540</td>\n",
       "      <td>33.953636</td>\n",
       "      <td>6.410651</td>\n",
       "      <td>23.417308</td>\n",
       "      <td>23.844141</td>\n",
       "    </tr>\n",
       "    <tr>\n",
       "      <th>4</th>\n",
       "      <td>152.493794</td>\n",
       "      <td>-1.121989</td>\n",
       "      <td>23.793758</td>\n",
       "      <td>38.064545</td>\n",
       "      <td>23.979029</td>\n",
       "      <td>35.787843</td>\n",
       "      <td>24.401134</td>\n",
       "      <td>37.163416</td>\n",
       "      <td>23.607342</td>\n",
       "      <td>36.872830</td>\n",
       "      <td>...</td>\n",
       "      <td>21.951090</td>\n",
       "      <td>38.411286</td>\n",
       "      <td>15.166774</td>\n",
       "      <td>755.078733</td>\n",
       "      <td>54.560336</td>\n",
       "      <td>2.341281</td>\n",
       "      <td>33.496287</td>\n",
       "      <td>6.308348</td>\n",
       "      <td>23.272809</td>\n",
       "      <td>23.762955</td>\n",
       "    </tr>\n",
       "    <tr>\n",
       "      <th>...</th>\n",
       "      <td>...</td>\n",
       "      <td>...</td>\n",
       "      <td>...</td>\n",
       "      <td>...</td>\n",
       "      <td>...</td>\n",
       "      <td>...</td>\n",
       "      <td>...</td>\n",
       "      <td>...</td>\n",
       "      <td>...</td>\n",
       "      <td>...</td>\n",
       "      <td>...</td>\n",
       "      <td>...</td>\n",
       "      <td>...</td>\n",
       "      <td>...</td>\n",
       "      <td>...</td>\n",
       "      <td>...</td>\n",
       "      <td>...</td>\n",
       "      <td>...</td>\n",
       "      <td>...</td>\n",
       "      <td>...</td>\n",
       "      <td>...</td>\n",
       "    </tr>\n",
       "    <tr>\n",
       "      <th>283</th>\n",
       "      <td>-18.260756</td>\n",
       "      <td>-3.363625</td>\n",
       "      <td>23.726154</td>\n",
       "      <td>22.469263</td>\n",
       "      <td>19.255531</td>\n",
       "      <td>29.255247</td>\n",
       "      <td>22.232005</td>\n",
       "      <td>29.838070</td>\n",
       "      <td>23.369669</td>\n",
       "      <td>25.375154</td>\n",
       "      <td>...</td>\n",
       "      <td>18.652347</td>\n",
       "      <td>39.888692</td>\n",
       "      <td>4.495328</td>\n",
       "      <td>747.272720</td>\n",
       "      <td>93.543925</td>\n",
       "      <td>3.580540</td>\n",
       "      <td>22.158445</td>\n",
       "      <td>3.507678</td>\n",
       "      <td>16.783769</td>\n",
       "      <td>26.121939</td>\n",
       "    </tr>\n",
       "    <tr>\n",
       "      <th>284</th>\n",
       "      <td>-18.262350</td>\n",
       "      <td>-3.363627</td>\n",
       "      <td>23.726160</td>\n",
       "      <td>22.469243</td>\n",
       "      <td>19.255511</td>\n",
       "      <td>29.255275</td>\n",
       "      <td>22.231967</td>\n",
       "      <td>29.838072</td>\n",
       "      <td>23.369661</td>\n",
       "      <td>25.375182</td>\n",
       "      <td>...</td>\n",
       "      <td>18.652302</td>\n",
       "      <td>39.888695</td>\n",
       "      <td>4.495302</td>\n",
       "      <td>747.272506</td>\n",
       "      <td>93.544070</td>\n",
       "      <td>3.580470</td>\n",
       "      <td>22.158338</td>\n",
       "      <td>3.507702</td>\n",
       "      <td>16.783629</td>\n",
       "      <td>26.121927</td>\n",
       "    </tr>\n",
       "    <tr>\n",
       "      <th>285</th>\n",
       "      <td>-18.263922</td>\n",
       "      <td>-3.363632</td>\n",
       "      <td>23.726165</td>\n",
       "      <td>22.469222</td>\n",
       "      <td>19.255490</td>\n",
       "      <td>29.255302</td>\n",
       "      <td>22.231930</td>\n",
       "      <td>29.838076</td>\n",
       "      <td>23.369654</td>\n",
       "      <td>25.375205</td>\n",
       "      <td>...</td>\n",
       "      <td>18.652257</td>\n",
       "      <td>39.888703</td>\n",
       "      <td>4.495277</td>\n",
       "      <td>747.272300</td>\n",
       "      <td>93.544201</td>\n",
       "      <td>3.580401</td>\n",
       "      <td>22.158234</td>\n",
       "      <td>3.507725</td>\n",
       "      <td>16.783492</td>\n",
       "      <td>26.121915</td>\n",
       "    </tr>\n",
       "    <tr>\n",
       "      <th>286</th>\n",
       "      <td>-18.265437</td>\n",
       "      <td>-3.363633</td>\n",
       "      <td>23.726170</td>\n",
       "      <td>22.469203</td>\n",
       "      <td>19.255470</td>\n",
       "      <td>29.255329</td>\n",
       "      <td>22.231894</td>\n",
       "      <td>29.838080</td>\n",
       "      <td>23.369647</td>\n",
       "      <td>25.375231</td>\n",
       "      <td>...</td>\n",
       "      <td>18.652214</td>\n",
       "      <td>39.888708</td>\n",
       "      <td>4.495254</td>\n",
       "      <td>747.272098</td>\n",
       "      <td>93.544341</td>\n",
       "      <td>3.580335</td>\n",
       "      <td>22.158134</td>\n",
       "      <td>3.507748</td>\n",
       "      <td>16.783361</td>\n",
       "      <td>26.121903</td>\n",
       "    </tr>\n",
       "    <tr>\n",
       "      <th>287</th>\n",
       "      <td>-18.266877</td>\n",
       "      <td>-3.363635</td>\n",
       "      <td>23.726176</td>\n",
       "      <td>22.469186</td>\n",
       "      <td>19.255451</td>\n",
       "      <td>29.255358</td>\n",
       "      <td>22.231859</td>\n",
       "      <td>29.838083</td>\n",
       "      <td>23.369641</td>\n",
       "      <td>25.375254</td>\n",
       "      <td>...</td>\n",
       "      <td>18.652172</td>\n",
       "      <td>39.888712</td>\n",
       "      <td>4.495232</td>\n",
       "      <td>747.271904</td>\n",
       "      <td>93.544473</td>\n",
       "      <td>3.580271</td>\n",
       "      <td>22.158034</td>\n",
       "      <td>3.507769</td>\n",
       "      <td>16.783238</td>\n",
       "      <td>26.121888</td>\n",
       "    </tr>\n",
       "  </tbody>\n",
       "</table>\n",
       "<p>288 rows × 28 columns</p>\n",
       "</div>"
      ],
      "text/plain": [
       "     Appliances    lights         T1       RH_1         T2       RH_2  \\\n",
       "0    130.203368 -0.128778  24.027095  37.872603  24.279868  35.449985   \n",
       "1    139.694183 -0.526448  23.929984  37.974900  24.222548  35.422928   \n",
       "2    145.832063 -0.786158  23.870777  38.027620  24.150946  35.513914   \n",
       "3    149.944696 -0.979119  23.827490  38.055755  24.067926  35.647171   \n",
       "4    152.493794 -1.121989  23.793758  38.064545  23.979029  35.787843   \n",
       "..          ...       ...        ...        ...        ...        ...   \n",
       "283  -18.260756 -3.363625  23.726154  22.469263  19.255531  29.255247   \n",
       "284  -18.262350 -3.363627  23.726160  22.469243  19.255511  29.255275   \n",
       "285  -18.263922 -3.363632  23.726165  22.469222  19.255490  29.255302   \n",
       "286  -18.265437 -3.363633  23.726170  22.469203  19.255470  29.255329   \n",
       "287  -18.266877 -3.363635  23.726176  22.469186  19.255451  29.255358   \n",
       "\n",
       "            T3       RH_3         T4       RH_4  ...         T9       RH_9  \\\n",
       "0    24.638236  37.482031  23.801186  36.687861  ...  22.013440  37.880111   \n",
       "1    24.553512  37.346631  23.747222  36.793639  ...  22.003228  38.059351   \n",
       "2    24.494786  37.273618  23.694757  36.849952  ...  21.986680  38.196718   \n",
       "3    24.444943  37.216779  23.649030  36.868810  ...  21.969113  38.314574   \n",
       "4    24.401134  37.163416  23.607342  36.872830  ...  21.951090  38.411286   \n",
       "..         ...        ...        ...        ...  ...        ...        ...   \n",
       "283  22.232005  29.838070  23.369669  25.375154  ...  18.652347  39.888692   \n",
       "284  22.231967  29.838072  23.369661  25.375182  ...  18.652302  39.888695   \n",
       "285  22.231930  29.838076  23.369654  25.375205  ...  18.652257  39.888703   \n",
       "286  22.231894  29.838080  23.369647  25.375231  ...  18.652214  39.888708   \n",
       "287  22.231859  29.838083  23.369641  25.375254  ...  18.652172  39.888712   \n",
       "\n",
       "         T_out  Press_mm_hg     RH_out  Windspeed  Visibility  Tdewpoint  \\\n",
       "0    15.779785   755.200531  53.512685   1.983620   36.183333   6.886718   \n",
       "1    15.627171   755.035334  53.704229   2.086410   35.168629   6.659589   \n",
       "2    15.494933   755.009556  54.010336   2.186440   34.490557   6.525291   \n",
       "3    15.339501   755.032515  54.281141   2.270540   33.953636   6.410651   \n",
       "4    15.166774   755.078733  54.560336   2.341281   33.496287   6.308348   \n",
       "..         ...          ...        ...        ...         ...        ...   \n",
       "283   4.495328   747.272720  93.543925   3.580540   22.158445   3.507678   \n",
       "284   4.495302   747.272506  93.544070   3.580470   22.158338   3.507702   \n",
       "285   4.495277   747.272300  93.544201   3.580401   22.158234   3.507725   \n",
       "286   4.495254   747.272098  93.544341   3.580335   22.158134   3.507748   \n",
       "287   4.495232   747.271904  93.544473   3.580271   22.158034   3.507769   \n",
       "\n",
       "           rv1        rv2  \n",
       "0    23.807998  24.754252  \n",
       "1    23.710680  24.243900  \n",
       "2    23.574080  23.983607  \n",
       "3    23.417308  23.844141  \n",
       "4    23.272809  23.762955  \n",
       "..         ...        ...  \n",
       "283  16.783769  26.121939  \n",
       "284  16.783629  26.121927  \n",
       "285  16.783492  26.121915  \n",
       "286  16.783361  26.121903  \n",
       "287  16.783238  26.121888  \n",
       "\n",
       "[288 rows x 28 columns]"
      ]
     },
     "execution_count": 64,
     "metadata": {},
     "output_type": "execute_result"
    }
   ],
   "source": [
    "true_predictions"
   ]
  },
  {
   "cell_type": "code",
   "execution_count": 65,
   "metadata": {},
   "outputs": [],
   "source": [
    "from sklearn.metrics import mean_squared_error"
   ]
  },
  {
   "cell_type": "code",
   "execution_count": 67,
   "metadata": {},
   "outputs": [
    {
     "name": "stdout",
     "output_type": "stream",
     "text": [
      "40345.16300622063\n"
     ]
    }
   ],
   "source": [
    "print(mean_squared_error(test['Appliances'], true_predictions['Appliances']))"
   ]
  },
  {
   "cell_type": "code",
   "execution_count": null,
   "metadata": {},
   "outputs": [],
   "source": []
  }
 ],
 "metadata": {
  "kernelspec": {
   "display_name": "Python 3",
   "language": "python",
   "name": "python3"
  },
  "language_info": {
   "codemirror_mode": {
    "name": "ipython",
    "version": 3
   },
   "file_extension": ".py",
   "mimetype": "text/x-python",
   "name": "python",
   "nbconvert_exporter": "python",
   "pygments_lexer": "ipython3",
   "version": "3.7.6"
  }
 },
 "nbformat": 4,
 "nbformat_minor": 4
}
